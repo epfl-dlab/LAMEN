{
 "cells": [
  {
   "cell_type": "code",
   "execution_count": 1,
   "id": "75b87aba",
   "metadata": {},
   "outputs": [
    {
     "data": {
      "text/plain": [
       "True"
      ]
     },
     "execution_count": 1,
     "metadata": {},
     "output_type": "execute_result"
    }
   ],
   "source": [
    "from modules import ChatModel, HumanMessage, SystemMessage\n",
    "from dotenv import load_dotenv\n",
    "\n",
    "load_dotenv() "
   ]
  },
  {
   "cell_type": "code",
   "execution_count": 2,
   "id": "f864c251",
   "metadata": {},
   "outputs": [],
   "source": [
    "model = ChatModel()"
   ]
  },
  {
   "cell_type": "code",
   "execution_count": 3,
   "id": "e97d91c3",
   "metadata": {},
   "outputs": [],
   "source": [
    "me = SystemMessage(\"Hello my name is {name}\").format_prompt(\"name\",\"venia\")\n",
    "# me.format_prompt(\"name\", \"venia\")"
   ]
  },
  {
   "cell_type": "code",
   "execution_count": 5,
   "id": "b58ebefc",
   "metadata": {},
   "outputs": [
    {
     "data": {
      "text/plain": [
       "['hi', 'bye', 1, 2, 3]"
      ]
     },
     "execution_count": 5,
     "metadata": {},
     "output_type": "execute_result"
    }
   ],
   "source": [
    "[\"hi\"] + [\"bye\"] + [1,2,3]"
   ]
  },
  {
   "cell_type": "code",
   "execution_count": null,
   "id": "dfdb671f",
   "metadata": {},
   "outputs": [],
   "source": []
  },
  {
   "cell_type": "code",
   "execution_count": 6,
   "id": "8de351f0",
   "metadata": {},
   "outputs": [],
   "source": [
    "response = model([me])"
   ]
  },
  {
   "cell_type": "code",
   "execution_count": 7,
   "id": "e273878f",
   "metadata": {},
   "outputs": [
    {
     "data": {
      "text/plain": [
       "AIMessage(\"content=Hello Venia! How can I assist you today?\")"
      ]
     },
     "execution_count": 7,
     "metadata": {},
     "output_type": "execute_result"
    }
   ],
   "source": [
    "response"
   ]
  },
  {
   "cell_type": "code",
   "execution_count": 5,
   "id": "2eceb1d3",
   "metadata": {},
   "outputs": [
    {
     "data": {
      "text/plain": [
       "'$40.02'"
      ]
     },
     "execution_count": 5,
     "metadata": {},
     "output_type": "execute_result"
    }
   ],
   "source": [
    "model.estimate_cost([me], 10000)"
   ]
  },
  {
   "cell_type": "code",
   "execution_count": null,
   "id": "0020adc9",
   "metadata": {},
   "outputs": [],
   "source": []
  }
 ],
 "metadata": {
  "kernelspec": {
   "display_name": "Python 3 (ipykernel)",
   "language": "python",
   "name": "python3"
  },
  "language_info": {
   "codemirror_mode": {
    "name": "ipython",
    "version": 3
   },
   "file_extension": ".py",
   "mimetype": "text/x-python",
   "name": "python",
   "nbconvert_exporter": "python",
   "pygments_lexer": "ipython3",
   "version": "3.9.16"
  }
 },
 "nbformat": 4,
 "nbformat_minor": 5
}

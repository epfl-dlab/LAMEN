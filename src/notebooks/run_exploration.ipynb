{
 "cells": [
  {
   "cell_type": "code",
   "execution_count": 1,
   "id": "initial_id",
   "metadata": {
    "ExecuteTime": {
     "end_time": "2023-11-08T15:34:58.112483Z",
     "start_time": "2023-11-08T15:34:56.649540Z"
    }
   },
   "outputs": [],
   "source": [
    "import pandas as pd "
   ]
  },
  {
   "cell_type": "code",
   "execution_count": 4,
   "id": "539f4f575222b0e2",
   "metadata": {
    "ExecuteTime": {
     "end_time": "2023-11-08T15:36:18.581098Z",
     "start_time": "2023-11-08T15:36:18.573490Z"
    },
    "collapsed": false,
    "jupyter": {
     "outputs_hidden": false
    }
   },
   "outputs": [],
   "source": [
    "cross_play_runs = '../../data/processed_outputs/cross_play/16-11-2023_19-45-16/evals.csv'\n",
    "self_play_runs = '../../data/processed_outputs/self_play/29-10-2023_11-21-36/evals.csv'"
   ]
  },
  {
   "cell_type": "code",
   "execution_count": 5,
   "id": "c9b11200d1974ec6",
   "metadata": {
    "ExecuteTime": {
     "end_time": "2023-11-08T15:36:31.473867Z",
     "start_time": "2023-11-08T15:36:31.323654Z"
    },
    "collapsed": false,
    "jupyter": {
     "outputs_hidden": false
    }
   },
   "outputs": [],
   "source": [
    "cross_play = pd.read_csv(cross_play_runs)\n",
    "self_play = pd.read_csv(self_play_runs)"
   ]
  },
  {
   "cell_type": "code",
   "execution_count": 6,
   "id": "9125baa05cf4ce6a",
   "metadata": {
    "ExecuteTime": {
     "end_time": "2023-11-08T15:36:41.547450Z",
     "start_time": "2023-11-08T15:36:41.513173Z"
    },
    "collapsed": false,
    "jupyter": {
     "outputs_hidden": false
    }
   },
   "outputs": [],
   "source": [
    "df = pd.concat([cross_play, self_play])"
   ]
  },
  {
   "cell_type": "code",
   "execution_count": 7,
   "id": "954fc5636d3cd1d",
   "metadata": {
    "ExecuteTime": {
     "end_time": "2023-11-08T15:39:50.452979Z",
     "start_time": "2023-11-08T15:39:50.446050Z"
    },
    "collapsed": false,
    "jupyter": {
     "outputs_hidden": false
    }
   },
   "outputs": [],
   "source": [
    "def error_present(dff):\n",
    "    # TODO: this may be problematic if they think they have interests opposite to what they have.\n",
    "    # TODO: should it be full agreement or synthetic?\n",
    "    df = dff.copy()\n",
    "    df['error'] = False \n",
    "    df.loc[((df['agent_1_normalized_payoff'] == 0) & (\n",
    "            df['agent_2_normalized_payoff'] == 0) & (df[\"completion_reason\"] == 'full agreement')), 'error'] = True \n",
    "    df.loc[((df['agent_1_normalized_payoff'] != 1 - df['agent_2_normalized_payoff']) & (\n",
    "                df[\"completion_reason\"] == 'full agreement') & (df['game_type'] == 'non-integrative distributive')), 'error'] = True \n",
    "    df.loc[((df['agent_1_normalized_payoff'] != df['agent_2_normalized_payoff']) & (\n",
    "            df[\"completion_reason\"] == 'full agreement') & (df['game_type'] == 'non-integrative compatible') &\n",
    "              (df['num_issues'] == 1)), 'error'] = True \n",
    "    return df"
   ]
  },
  {
   "cell_type": "code",
   "execution_count": 8,
   "id": "aae5470c29a50f65",
   "metadata": {
    "ExecuteTime": {
     "end_time": "2023-11-08T15:43:01.788084Z",
     "start_time": "2023-11-08T15:43:01.767897Z"
    },
    "collapsed": false,
    "jupyter": {
     "outputs_hidden": false
    }
   },
   "outputs": [],
   "source": [
    "df = error_present(df)"
   ]
  },
  {
   "cell_type": "code",
   "execution_count": 9,
   "id": "a97e385b73d4c497",
   "metadata": {
    "ExecuteTime": {
     "end_time": "2023-11-08T15:43:02.657918Z",
     "start_time": "2023-11-08T15:43:02.640326Z"
    },
    "collapsed": false,
    "jupyter": {
     "outputs_hidden": false
    }
   },
   "outputs": [],
   "source": [
    "df['synthetic_agreement'] = df['completion_reason'].apply(lambda x: 1 if x in ['aligning internal states, textual disagreement', 'full agreement'] else 0)\n",
    "df['full_agreement'] = df['completion_reason'].apply(lambda x: 1 if x in ['full agreement'] else 0)"
   ]
  },
  {
   "cell_type": "code",
   "execution_count": 10,
   "id": "5fe9969c330698e1",
   "metadata": {
    "ExecuteTime": {
     "end_time": "2023-11-08T15:45:25.498520Z",
     "start_time": "2023-11-08T15:45:25.485739Z"
    },
    "collapsed": false,
    "jupyter": {
     "outputs_hidden": false
    }
   },
   "outputs": [],
   "source": [
    "df.groupby(['agent_1_model_name', 'agent_2_model_name', 'num_issues', 'game_type', 'protocol_start_agent_index']).agg({'protocol_start_agent_index': 'count', 'synthetic_agreement': 'sum', 'full_agreement': 'sum', 'error': 'sum'}).rename({'protocol_start_agent_index': 'count'}, axis=1).to_csv('../../data/processed_outputs/summary_of_all_runs.csv')"
   ]
  },
  {
   "cell_type": "code",
   "execution_count": null,
   "id": "f4dd15319cb10e51",
   "metadata": {
    "collapsed": false,
    "jupyter": {
     "outputs_hidden": false
    }
   },
   "outputs": [],
   "source": []
  }
 ],
 "metadata": {
  "kernelspec": {
   "display_name": "Python 3 (ipykernel)",
   "language": "python",
   "name": "python3"
  },
  "language_info": {
   "codemirror_mode": {
    "name": "ipython",
    "version": 3
   },
   "file_extension": ".py",
   "mimetype": "text/x-python",
   "name": "python",
   "nbconvert_exporter": "python",
   "pygments_lexer": "ipython3",
   "version": "3.10.13"
  }
 },
 "nbformat": 4,
 "nbformat_minor": 5
}

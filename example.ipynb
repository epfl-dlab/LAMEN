{
 "cells": [
  {
   "cell_type": "markdown",
   "id": "d0073be3",
   "metadata": {},
   "source": [
    "# Minimal Example\n",
    "1. specify models to negotiate\n",
    "2. run negotiation\n",
    "3. process and results\n",
    "4. example for commandline usage"
   ]
  },
  {
   "cell_type": "code",
   "execution_count": null,
   "id": "4de9ad43",
   "metadata": {},
   "outputs": [],
   "source": [
    "import yaml\n",
    "from src.agents import NegotiationAgent\n",
    "from src.protocols import NegotiationProtocol\n",
    "from src.models import OpenAIModel\n",
    "from src.games import Game, Issue\n",
    "\n",
    "# where to save results\n",
    "save_dir='my_example_logs/'\n",
    "\n",
    "# which model and model provider should be used?\n",
    "agent_1_model_name = 'gpt-3.5-turbo'\n",
    "agent_1_model_provider = 'azure'\n",
    "\n",
    "agent_2_model_name = 'gpt-3.5-turbo'\n",
    "agent_2_model_provider = 'azure'\n",
    "\n",
    "offerx_model_name = 'gpt-3.5-turbo'\n",
    "offerx_model_provider = 'azure'\n",
    "\n",
    "# which agents are used?\n",
    "# agent_1_desc = yaml.safe_load(open('data/agents/anon.yaml'))\n",
    "agent_1_desc = {\n",
    "    'internal_description': {\n",
    "        'name': 'You'\n",
    "    },\n",
    "    'external_description': {\n",
    "        'name': 'Representative'\n",
    "    }\n",
    "}\n",
    "# agent_2_desc = yaml.safe_load(open('data/agents/anon.yaml'))\n",
    "agent_2_desc = {\n",
    "    'internal_description': {\n",
    "        'name': 'You'\n",
    "    },\n",
    "    'external_description': {\n",
    "        'name': 'Representative'\n",
    "    }\n",
    "}\n",
    "\n",
    "# which game setting should be played? (see data/games for examples)\n",
    "game = yaml.safe_load(open(\"data/games/generic-rental-agreement.yaml\"))\n",
    "# which issues should be negotiated over? (see data/issues for examples)\n",
    "issues = [\"gen-ra-rent.yaml\"]\n",
    "# how should the different issues be weighted in importance? (only relevant for >1 issues)\n",
    "issue_weights = [[1], [1]]\n",
    "\n",
    "\n",
    "# instantiate game\n",
    "game = Game(issues=issues, issue_weights=issue_weights, **game)\n",
    "# instantiate agents\n",
    "agent_1 = NegotiationAgent(model=OpenAIModel(model_name=agent_1_model_name, model_provider=agent_1_model_provider),\n",
    "                           model_name=agent_1_model_name, model_provider=agent_1_model_provider,\n",
    "                          **agent_1_desc)\n",
    "agent_2 = NegotiationAgent(model=OpenAIModel(model_name=agent_2_model_name, model_provider=agent_2_model_provider),\n",
    "                           model_name=agent_2_model_name, model_provider=agent_2_model_provider,\n",
    "                          **agent_2_desc\n",
    "                          )\n",
    "# instantiate protocol\n",
    "negotiation_protocol = NegotiationProtocol(game=game,\n",
    "                                           agent_1=agent_1,\n",
    "                                           agent_2=agent_2,\n",
    "                                           save_folder=save_dir\n",
    "                                          )\n",
    "# run negotiation\n",
    "negotiation_protocol.run()"
   ]
  },
  {
   "cell_type": "markdown",
   "id": "89520cc8",
   "metadata": {},
   "source": [
    "## Process raw transcript"
   ]
  },
  {
   "cell_type": "code",
   "execution_count": null,
   "id": "5f5384d1",
   "metadata": {},
   "outputs": [],
   "source": [
    "from src.process_transcripts import ProcessTranscript\n",
    "\n",
    "# process raw transcript file --> saved to same folder with file name 'processed_transcripts.csv'\n",
    "neg_eval = ProcessTranscript(save_dir=save_dir, game=game, update=False)\n",
    "neg_eval.compute_metrics()"
   ]
  },
  {
   "cell_type": "code",
   "execution_count": null,
   "id": "927bab6c",
   "metadata": {},
   "outputs": [],
   "source": [
    "import pandas as pd\n",
    "\n",
    "# inspect results\n",
    "df = pd.read_csv(f'{save_dir}/processed_negotiation.csv')\n",
    "df.head()"
   ]
  },
  {
   "cell_type": "markdown",
   "id": "4ce66a4b",
   "metadata": {},
   "source": [
    "## Run from command line"
   ]
  },
  {
   "cell_type": "code",
   "execution_count": null,
   "id": "4a4aad29",
   "metadata": {},
   "outputs": [],
   "source": [
    "# which model and model provider should be used?\n",
    "agent_1_model_name = 'gpt-3.5-turbo'\n",
    "agent_1_model_provider = 'azure'\n",
    "\n",
    "agent_2_model_name = 'gpt-3.5-turbo'\n",
    "agent_2_model_provider = 'azure'\n",
    "\n",
    "offerx_model_name = 'gpt-3.5-turbo'\n",
    "offerx_model_provider = 'azure'\n",
    "\n",
    "agent_1_desc = 'data/agents/anon.yaml'\n",
    "agent_2_desc = 'data/agents/anon.yaml'\n",
    "\n",
    "\n",
    "# which game setting should be played? (see data/games for examples)\n",
    "game = \"data/games/generic-rental-agreement.yaml\"\n",
    "# which issues should be negotiated over? (see data/issues for examples)\n",
    "issues = '[\"gen-ra-rent.yaml\"]'\n",
    "# how should the different issues be weighted in importance? (only relevant for >1 issues)\n",
    "issue_weights = '[[1], [1]]'\n",
    "# what is the maximum, aggregate utility that can be obtained across issues?\n",
    "scale = '[[100], [100]]'\n",
    "\n",
    "# putting everything together -> note the extra single quotes around 'array' type values!\n",
    "run_str = f\"\"\"\n",
    "python src/run_scratch.py \\\n",
    "++experiments.agent_1.model_name={agent_1_model_name} \\\n",
    "++experiments.agent_1.model_provider={agent_1_model_provider} \\\n",
    "++experiments.agent_2.model_name={agent_2_model_name} \\\n",
    "++experiments.agent_2.model_provider={agent_2_model_provider} \\\n",
    "++offer_extraction_model_name={offerx_model_name} \\\n",
    "++offer_extraction_model_provider={offerx_model_provider} \\\n",
    "++experiments.agent_1.agent_desc={agent_1_desc} \\\n",
    "++experiments.agent_2.agent_desc={agent_2_desc} \\\n",
    "++experiments.game.name={game} \\\n",
    "'++experiments.game.issues={issues}' \\\n",
    "'++experiments.game.issue_weights={issue_weights}' \\\n",
    "'++experiments.game.scale={scale}' \\\n",
    "++max_rounds=1\"\"\""
   ]
  },
  {
   "cell_type": "code",
   "execution_count": null,
   "id": "5864cd31",
   "metadata": {},
   "outputs": [],
   "source": [
    "!$run_str"
   ]
  }
 ],
 "metadata": {
  "kernelspec": {
   "display_name": "Python 3 (ipykernel)",
   "language": "python",
   "name": "python3"
  },
  "language_info": {
   "codemirror_mode": {
    "name": "ipython",
    "version": 3
   },
   "file_extension": ".py",
   "mimetype": "text/x-python",
   "name": "python",
   "nbconvert_exporter": "python",
   "pygments_lexer": "ipython3",
   "version": "3.10.13"
  }
 },
 "nbformat": 4,
 "nbformat_minor": 5
}

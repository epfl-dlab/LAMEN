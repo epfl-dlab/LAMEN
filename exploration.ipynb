{
 "cells": [
  {
   "cell_type": "code",
   "execution_count": null,
   "id": "bfd920fe",
   "metadata": {},
   "outputs": [],
   "source": [
    "# Logic to wave user messages\n",
    "n = [f'note_{i}' for i in range(2)]\n",
    "m = [f'msg_{i}' for i in range(2)]\n",
    "cm = [f'c_msg_{i}' for i in range(3)]\n",
    "\n",
    "\n",
    "max_n = 10\n",
    "max_m = 5\n",
    "\n",
    "msg = len(n) > len(m)\n",
    "max_len = max(max(len(n), len(m)), 1)\n",
    "print(f'next is msg: {msg} - max_len: {max_len}')\n",
    "\n",
    "d = []\n",
    "for i in range(1, max_len+1):\n",
    "    print(f'[{i}]')\n",
    "    if msg and (i <= max_n) and (0 < len(n)):\n",
    "        d.append(n.pop())\n",
    "        print(f'  {d}')\n",
    "\n",
    "    if i <= max_m:\n",
    "        if 0 < len(cm):\n",
    "            d.append(cm.pop())\n",
    "        if 0 < len(m):\n",
    "            d.append(m.pop())\n",
    "        \n",
    "        print(f'  {d}')\n",
    "    \n",
    "    if (not msg) and (i <= max_n) and (0 < len(n)):\n",
    "        d.append(n.pop())\n",
    "        print(f'  {d}')\n",
    "        \n",
    "    if (i == max_len) and (0 < len(cm)) and (i <= max_m):\n",
    "        d.append(cm.pop())\n",
    "        print(f'  {d}')\n",
    "    \n",
    "\n",
    "print('\\n', d[::-1])"
   ]
  },
  {
   "cell_type": "code",
   "execution_count": null,
   "id": "6b73471e",
   "metadata": {},
   "outputs": [],
   "source": [
    "import re\n",
    "\n",
    "s = \"\"\"\n",
    "this is a story with a proposal.\n",
    "\n",
    "acceptable proposal:\n",
    "{\n",
    "    \"issue_0\": \"value\",\n",
    "    \"issue_1\": \"value\"\n",
    "}\n",
    "\"\"\"\n",
    "\n",
    "regex = r\"{.*?}\"\n",
    "\n",
    "match = re.search(regex, s, re.MULTILINE | re.DOTALL)\n",
    "print(eval(match[0]))"
   ]
  }
 ],
 "metadata": {
  "kernelspec": {
   "display_name": "Python 3 (ipykernel)",
   "language": "python",
   "name": "python3"
  },
  "language_info": {
   "codemirror_mode": {
    "name": "ipython",
    "version": 3
   },
   "file_extension": ".py",
   "mimetype": "text/x-python",
   "name": "python",
   "nbconvert_exporter": "python",
   "pygments_lexer": "ipython3",
   "version": "3.10.6"
  }
 },
 "nbformat": 4,
 "nbformat_minor": 5
}

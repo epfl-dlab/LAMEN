{
 "cells": [
  {
   "cell_type": "code",
   "execution_count": null,
   "id": "275655d7",
   "metadata": {},
   "outputs": [],
   "source": [
    "# Logic to wave user messages\n",
    "a = ['note'] * 3\n",
    "b = ['msg'] * 2\n",
    "c = ['c_msg'] * 2\n",
    "\n",
    "max_a = 1\n",
    "max_b = 2\n",
    "\n",
    "msg = len(a) > len(b)\n",
    "max_len = max(len(a), len(b))\n",
    "\n",
    "d = []\n",
    "for i in range(0, max_len):\n",
    "\n",
    "    if msg and i < max_a and i < len(a):\n",
    "        d.append(a[-i])\n",
    "    \n",
    "    if i < max_b:\n",
    "        if i < len(c):\n",
    "            d.append(c[-i])\n",
    "        if i < len(b):\n",
    "            d.append(b[-i])\n",
    "    \n",
    "    if not msg and i < max_a and i < len(a):\n",
    "        d.append(a[-i])\n",
    "        \n",
    "    if i+1 == max_len and max_len < len(c):\n",
    "        d.append(c[0])\n",
    "\n",
    "d[::-1]"
   ]
  }
 ],
 "metadata": {
  "kernelspec": {
   "display_name": "Python 3 (ipykernel)",
   "language": "python",
   "name": "python3"
  },
  "language_info": {
   "codemirror_mode": {
    "name": "ipython",
    "version": 3
   },
   "file_extension": ".py",
   "mimetype": "text/x-python",
   "name": "python",
   "nbconvert_exporter": "python",
   "pygments_lexer": "ipython3",
   "version": "3.10.6"
  }
 },
 "nbformat": 4,
 "nbformat_minor": 5
}

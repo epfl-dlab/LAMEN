{
 "cells": [
  {
   "cell_type": "markdown",
   "id": "b6e03c2e",
   "metadata": {},
   "source": [
    "# Inspect Negotiations\n",
    "1. Sample or manually select a log\n",
    "2. Print the memory settings for both agents\n",
    "3. Print the negotiations log"
   ]
  },
  {
   "cell_type": "code",
   "execution_count": 15,
   "id": "8c4bf2ad",
   "metadata": {},
   "outputs": [
    {
     "name": "stdout",
     "output_type": "stream",
     "text": [
      "The autoreload extension is already loaded. To reload it, use:\n",
      "  %reload_ext autoreload\n"
     ]
    }
   ],
   "source": [
    "import os\n",
    "import pandas as pd\n",
    "import sys\n",
    "sys.path.append('../')\n",
    "from src.utils import (unpack_nested_yaml, \n",
    "                    load_hydra_config, \n",
    "                    inspect_game, \n",
    "                    sample_run, \n",
    "                    get_memory_settings, \n",
    "                    sample_games_from_pandas,\n",
    "                    error_runs)   \n",
    "\n",
    "%load_ext autoreload\n",
    "%autoreload 2"
   ]
  },
  {
   "cell_type": "code",
   "execution_count": 16,
   "id": "342cdf39-3299-4633-abb6-e1380f3ae8a7",
   "metadata": {},
   "outputs": [],
   "source": [
    "all_evals = 'data/processed_outputs/self_play/20-11-2023_12-14-51/evals.csv'"
   ]
  },
  {
   "cell_type": "code",
   "execution_count": 17,
   "id": "94e87148-d035-40ab-aaa0-9f577459a74d",
   "metadata": {},
   "outputs": [],
   "source": [
    "all_evals_cross = 'data/processed_outputs/cross_play/20-11-2023_11-33-21/evals.csv'"
   ]
  },
  {
   "cell_type": "code",
   "execution_count": 18,
   "id": "b0a51537-ca64-45bc-9c7a-a6718034d9bb",
   "metadata": {},
   "outputs": [],
   "source": [
    "self = pd.read_csv(all_evals)"
   ]
  },
  {
   "cell_type": "code",
   "execution_count": 19,
   "id": "30e6a5be-d07e-4ac0-8987-a401e4efc650",
   "metadata": {},
   "outputs": [],
   "source": [
    "cross = pd.read_csv(all_evals_cross)"
   ]
  },
  {
   "cell_type": "code",
   "execution_count": 20,
   "id": "b99306e5-2bd8-408b-984a-88d325a3ab13",
   "metadata": {},
   "outputs": [
    {
     "data": {
      "text/plain": [
       "942"
      ]
     },
     "execution_count": 20,
     "metadata": {},
     "output_type": "execute_result"
    }
   ],
   "source": [
    "len(self)"
   ]
  },
  {
   "cell_type": "code",
   "execution_count": 21,
   "id": "9c456712-27e1-4969-8029-7fbb6bb325fa",
   "metadata": {},
   "outputs": [
    {
     "data": {
      "text/plain": [
       "1984"
      ]
     },
     "execution_count": 21,
     "metadata": {},
     "output_type": "execute_result"
    }
   ],
   "source": [
    "len(cross) "
   ]
  },
  {
   "cell_type": "code",
   "execution_count": 41,
   "id": "23fcfc4f-8ab7-4991-b81c-ff1230d44acc",
   "metadata": {},
   "outputs": [],
   "source": [
    "error_df = error_runs(self, error_type='all')"
   ]
  },
  {
   "cell_type": "code",
   "execution_count": 47,
   "id": "e01ced7f-d0e5-4692-9498-c85c40d89c67",
   "metadata": {},
   "outputs": [
    {
     "data": {
      "text/plain": [
       "0.23076923076923078"
      ]
     },
     "execution_count": 47,
     "metadata": {},
     "output_type": "execute_result"
    }
   ],
   "source": [
    "self[(self['agent_1_model_name'] == 'command') & (self['num_issues'] == 1) & (self['game_type'] == 'non-integrative distributive')]"
   ]
  },
  {
   "cell_type": "code",
   "execution_count": 45,
   "id": "313261ee",
   "metadata": {},
   "outputs": [
    {
     "data": {
      "text/html": [
       "<div>\n",
       "<style scoped>\n",
       "    .dataframe tbody tr th:only-of-type {\n",
       "        vertical-align: middle;\n",
       "    }\n",
       "\n",
       "    .dataframe tbody tr th {\n",
       "        vertical-align: top;\n",
       "    }\n",
       "\n",
       "    .dataframe thead th {\n",
       "        text-align: right;\n",
       "    }\n",
       "</style>\n",
       "<table border=\"1\" class=\"dataframe\">\n",
       "  <thead>\n",
       "    <tr style=\"text-align: right;\">\n",
       "      <th></th>\n",
       "      <th>log_path</th>\n",
       "      <th>completion_reason</th>\n",
       "      <th>agent_1_normalized_payoff</th>\n",
       "      <th>agent_2_normalized_payoff</th>\n",
       "    </tr>\n",
       "  </thead>\n",
       "  <tbody>\n",
       "    <tr>\n",
       "      <th>873</th>\n",
       "      <td>logs/self_play/runs/2023-09-28_21-09-30-475528</td>\n",
       "      <td>aligning internal states, textual disagreement</td>\n",
       "      <td>0.0</td>\n",
       "      <td>0.0</td>\n",
       "    </tr>\n",
       "  </tbody>\n",
       "</table>\n",
       "</div>"
      ],
      "text/plain": [
       "                                           log_path  \\\n",
       "873  logs/self_play/runs/2023-09-28_21-09-30-475528   \n",
       "\n",
       "                                  completion_reason  \\\n",
       "873  aligning internal states, textual disagreement   \n",
       "\n",
       "     agent_1_normalized_payoff  agent_2_normalized_payoff  \n",
       "873                        0.0                        0.0  "
      ]
     },
     "execution_count": 45,
     "metadata": {},
     "output_type": "execute_result"
    }
   ],
   "source": [
    "error_df[(error_df['agent_1_model_name'] == 'command') & (error_df['num_issues'] == 1) & (error_df['game_type'] == 'non-integrative distributive')][['log_path', 'completion_reason', 'agent_1_normalized_payoff', 'agent_2_normalized_payoff']]"
   ]
  },
  {
   "cell_type": "code",
   "execution_count": null,
   "id": "95e33440-9d5b-4cb6-b1a6-6411c01d1dd0",
   "metadata": {},
   "outputs": [],
   "source": []
  },
  {
   "cell_type": "code",
   "execution_count": 44,
   "id": "e4fd22dd-2fd5-4e70-bd0b-b91316e5d0b7",
   "metadata": {},
   "outputs": [
    {
     "data": {
      "text/html": [
       "<div>\n",
       "<style scoped>\n",
       "    .dataframe tbody tr th:only-of-type {\n",
       "        vertical-align: middle;\n",
       "    }\n",
       "\n",
       "    .dataframe tbody tr th {\n",
       "        vertical-align: top;\n",
       "    }\n",
       "\n",
       "    .dataframe thead th {\n",
       "        text-align: right;\n",
       "    }\n",
       "</style>\n",
       "<table border=\"1\" class=\"dataframe\">\n",
       "  <thead>\n",
       "    <tr style=\"text-align: right;\">\n",
       "      <th></th>\n",
       "      <th>log_path</th>\n",
       "      <th>completion_reason</th>\n",
       "      <th>agent_1_normalized_payoff</th>\n",
       "      <th>agent_2_normalized_payoff</th>\n",
       "    </tr>\n",
       "  </thead>\n",
       "  <tbody>\n",
       "    <tr>\n",
       "      <th>57</th>\n",
       "      <td>logs/self_play/runs/2023-09-26_18-52-05-243675</td>\n",
       "      <td>aligning internal states, textual disagreement</td>\n",
       "      <td>0.000000</td>\n",
       "      <td>0.000000</td>\n",
       "    </tr>\n",
       "    <tr>\n",
       "      <th>102</th>\n",
       "      <td>logs/self_play/runs/2023-09-26_21-05-12-499646</td>\n",
       "      <td>aligning internal states, textual disagreement</td>\n",
       "      <td>0.000000</td>\n",
       "      <td>0.000000</td>\n",
       "    </tr>\n",
       "    <tr>\n",
       "      <th>192</th>\n",
       "      <td>logs/self_play/runs/2023-09-27_20-33-15-785503</td>\n",
       "      <td>full agreement</td>\n",
       "      <td>0.750000</td>\n",
       "      <td>0.000000</td>\n",
       "    </tr>\n",
       "    <tr>\n",
       "      <th>194</th>\n",
       "      <td>logs/self_play/runs/2023-09-27_20-35-29-546202</td>\n",
       "      <td>full agreement</td>\n",
       "      <td>0.125000</td>\n",
       "      <td>0.625000</td>\n",
       "    </tr>\n",
       "    <tr>\n",
       "      <th>205</th>\n",
       "      <td>logs/self_play/runs/2023-09-27_21-43-49-202720</td>\n",
       "      <td>full agreement</td>\n",
       "      <td>0.650000</td>\n",
       "      <td>0.325000</td>\n",
       "    </tr>\n",
       "    <tr>\n",
       "      <th>351</th>\n",
       "      <td>logs/self_play/runs/2023-09-28_06-06-58-441625</td>\n",
       "      <td>full agreement</td>\n",
       "      <td>0.000000</td>\n",
       "      <td>0.000000</td>\n",
       "    </tr>\n",
       "    <tr>\n",
       "      <th>434</th>\n",
       "      <td>logs/self_play/runs/2023-09-28_06-34-28-564379</td>\n",
       "      <td>full agreement</td>\n",
       "      <td>0.450000</td>\n",
       "      <td>0.050000</td>\n",
       "    </tr>\n",
       "    <tr>\n",
       "      <th>516</th>\n",
       "      <td>logs/self_play/runs/2023-09-28_06-56-48-537499</td>\n",
       "      <td>full agreement</td>\n",
       "      <td>0.450000</td>\n",
       "      <td>0.300000</td>\n",
       "    </tr>\n",
       "    <tr>\n",
       "      <th>519</th>\n",
       "      <td>logs/self_play/runs/2023-09-28_06-57-20-282188</td>\n",
       "      <td>full agreement</td>\n",
       "      <td>0.533345</td>\n",
       "      <td>0.133341</td>\n",
       "    </tr>\n",
       "    <tr>\n",
       "      <th>521</th>\n",
       "      <td>logs/self_play/runs/2023-09-28_06-57-56-503827</td>\n",
       "      <td>full agreement</td>\n",
       "      <td>0.475000</td>\n",
       "      <td>0.275000</td>\n",
       "    </tr>\n",
       "    <tr>\n",
       "      <th>547</th>\n",
       "      <td>logs/self_play/runs/2023-09-28_07-05-28-082395</td>\n",
       "      <td>full agreement</td>\n",
       "      <td>0.400000</td>\n",
       "      <td>0.350000</td>\n",
       "    </tr>\n",
       "    <tr>\n",
       "      <th>642</th>\n",
       "      <td>logs/self_play/runs/2023-09-28_08-42-55-505606</td>\n",
       "      <td>aligning internal states, textual disagreement</td>\n",
       "      <td>0.000000</td>\n",
       "      <td>0.000000</td>\n",
       "    </tr>\n",
       "    <tr>\n",
       "      <th>743</th>\n",
       "      <td>logs/self_play/runs/2023-09-28_15-22-57-629372</td>\n",
       "      <td>aligning internal states, textual disagreement</td>\n",
       "      <td>0.000000</td>\n",
       "      <td>0.000000</td>\n",
       "    </tr>\n",
       "    <tr>\n",
       "      <th>745</th>\n",
       "      <td>logs/self_play/runs/2023-09-28_15-22-57-671411</td>\n",
       "      <td>full agreement</td>\n",
       "      <td>0.000000</td>\n",
       "      <td>0.000000</td>\n",
       "    </tr>\n",
       "    <tr>\n",
       "      <th>799</th>\n",
       "      <td>logs/self_play/runs/2023-09-28_15-51-03-317662</td>\n",
       "      <td>full agreement</td>\n",
       "      <td>0.000000</td>\n",
       "      <td>0.000000</td>\n",
       "    </tr>\n",
       "    <tr>\n",
       "      <th>836</th>\n",
       "      <td>logs/self_play/runs/2023-09-28_16-17-04-785080</td>\n",
       "      <td>full agreement</td>\n",
       "      <td>0.175000</td>\n",
       "      <td>0.575000</td>\n",
       "    </tr>\n",
       "    <tr>\n",
       "      <th>873</th>\n",
       "      <td>logs/self_play/runs/2023-09-28_21-09-30-475528</td>\n",
       "      <td>aligning internal states, textual disagreement</td>\n",
       "      <td>0.000000</td>\n",
       "      <td>0.000000</td>\n",
       "    </tr>\n",
       "    <tr>\n",
       "      <th>883</th>\n",
       "      <td>logs/self_play/runs/2023-09-28_21-33-00-285063</td>\n",
       "      <td>aligning internal states, textual disagreement</td>\n",
       "      <td>0.700000</td>\n",
       "      <td>0.500000</td>\n",
       "    </tr>\n",
       "    <tr>\n",
       "      <th>908</th>\n",
       "      <td>logs/self_play/runs/2023-09-28_22-17-49-781339</td>\n",
       "      <td>aligning internal states, textual disagreement</td>\n",
       "      <td>0.000000</td>\n",
       "      <td>0.000000</td>\n",
       "    </tr>\n",
       "  </tbody>\n",
       "</table>\n",
       "</div>"
      ],
      "text/plain": [
       "                                           log_path  \\\n",
       "57   logs/self_play/runs/2023-09-26_18-52-05-243675   \n",
       "102  logs/self_play/runs/2023-09-26_21-05-12-499646   \n",
       "192  logs/self_play/runs/2023-09-27_20-33-15-785503   \n",
       "194  logs/self_play/runs/2023-09-27_20-35-29-546202   \n",
       "205  logs/self_play/runs/2023-09-27_21-43-49-202720   \n",
       "351  logs/self_play/runs/2023-09-28_06-06-58-441625   \n",
       "434  logs/self_play/runs/2023-09-28_06-34-28-564379   \n",
       "516  logs/self_play/runs/2023-09-28_06-56-48-537499   \n",
       "519  logs/self_play/runs/2023-09-28_06-57-20-282188   \n",
       "521  logs/self_play/runs/2023-09-28_06-57-56-503827   \n",
       "547  logs/self_play/runs/2023-09-28_07-05-28-082395   \n",
       "642  logs/self_play/runs/2023-09-28_08-42-55-505606   \n",
       "743  logs/self_play/runs/2023-09-28_15-22-57-629372   \n",
       "745  logs/self_play/runs/2023-09-28_15-22-57-671411   \n",
       "799  logs/self_play/runs/2023-09-28_15-51-03-317662   \n",
       "836  logs/self_play/runs/2023-09-28_16-17-04-785080   \n",
       "873  logs/self_play/runs/2023-09-28_21-09-30-475528   \n",
       "883  logs/self_play/runs/2023-09-28_21-33-00-285063   \n",
       "908  logs/self_play/runs/2023-09-28_22-17-49-781339   \n",
       "\n",
       "                                  completion_reason  \\\n",
       "57   aligning internal states, textual disagreement   \n",
       "102  aligning internal states, textual disagreement   \n",
       "192                                  full agreement   \n",
       "194                                  full agreement   \n",
       "205                                  full agreement   \n",
       "351                                  full agreement   \n",
       "434                                  full agreement   \n",
       "516                                  full agreement   \n",
       "519                                  full agreement   \n",
       "521                                  full agreement   \n",
       "547                                  full agreement   \n",
       "642  aligning internal states, textual disagreement   \n",
       "743  aligning internal states, textual disagreement   \n",
       "745                                  full agreement   \n",
       "799                                  full agreement   \n",
       "836                                  full agreement   \n",
       "873  aligning internal states, textual disagreement   \n",
       "883  aligning internal states, textual disagreement   \n",
       "908  aligning internal states, textual disagreement   \n",
       "\n",
       "     agent_1_normalized_payoff  agent_2_normalized_payoff  \n",
       "57                    0.000000                   0.000000  \n",
       "102                   0.000000                   0.000000  \n",
       "192                   0.750000                   0.000000  \n",
       "194                   0.125000                   0.625000  \n",
       "205                   0.650000                   0.325000  \n",
       "351                   0.000000                   0.000000  \n",
       "434                   0.450000                   0.050000  \n",
       "516                   0.450000                   0.300000  \n",
       "519                   0.533345                   0.133341  \n",
       "521                   0.475000                   0.275000  \n",
       "547                   0.400000                   0.350000  \n",
       "642                   0.000000                   0.000000  \n",
       "743                   0.000000                   0.000000  \n",
       "745                   0.000000                   0.000000  \n",
       "799                   0.000000                   0.000000  \n",
       "836                   0.175000                   0.575000  \n",
       "873                   0.000000                   0.000000  \n",
       "883                   0.700000                   0.500000  \n",
       "908                   0.000000                   0.000000  "
      ]
     },
     "execution_count": 44,
     "metadata": {},
     "output_type": "execute_result"
    }
   ],
   "source": [
    "error_df[['log_path', 'completion_reason', 'agent_1_normalized_payoff', 'agent_2_normalized_payoff']]"
   ]
  },
  {
   "cell_type": "code",
   "execution_count": 10,
   "id": "93f4373f-fe86-468c-ac7e-3c235003183f",
   "metadata": {},
   "outputs": [],
   "source": []
  },
  {
   "cell_type": "code",
   "execution_count": null,
   "id": "bd9a2141-e597-43ea-8000-c471c297a7b1",
   "metadata": {},
   "outputs": [],
   "source": []
  },
  {
   "cell_type": "code",
   "execution_count": 26,
   "id": "dd0367f0-e3df-4049-b70d-e0e2fb3e565e",
   "metadata": {},
   "outputs": [
    {
     "name": "stdout",
     "output_type": "stream",
     "text": [
      "[memory settings]:\n",
      "agent_1\n",
      "  note_input_note_history:0\n",
      "  note_input_msg_history:-1\n",
      "  msg_input_note_history:1\n",
      "  msg_input_msg_history:-1\n",
      "agent_2\n",
      "  note_input_note_history:0\n",
      "  note_input_msg_history:-1\n",
      "  msg_input_note_history:1\n",
      "  msg_input_msg_history:-1\n"
     ]
    }
   ],
   "source": [
    "# 1. select game\n",
    "load_path = sample_run()\n",
    "load_path = sample_games_from_pandas(self, **{'agent_1_model_name': 'command', 'num_issues': 1})\n",
    "# 2. memory settings\n",
    "get_memory_settings(load_path)"
   ]
  },
  {
   "cell_type": "code",
   "execution_count": null,
   "id": "b359610b-a2ca-4648-8648-6d6db5ce9886",
   "metadata": {},
   "outputs": [],
   "source": [
    "# examples for discussion\n",
    "# unequal payoffs, weird discussion leading me to believe it may be a chatgpt extraction problem\n",
    "log_path_1 = 'logs/self_play/runs/2023-09-27_20-33-15-785503'"
   ]
  },
  {
   "cell_type": "code",
   "execution_count": 13,
   "id": "3949fece-91bd-4da8-b12c-f08edd752519",
   "metadata": {},
   "outputs": [],
   "source": [
    "run = sample_run(run_dir='public_logs2/transcripts/self_play/command')"
   ]
  },
  {
   "cell_type": "code",
   "execution_count": 27,
   "id": "afee4bfa",
   "metadata": {},
   "outputs": [
    {
     "name": "stdout",
     "output_type": "stream",
     "text": [
      "file:                    logs/self_play/runs/2023-09-28_15-28-46-641689\n",
      "game:                    generic-rental-agreement\n",
      "issues:                  ['gen-ra-rent.yaml']\n",
      "issue_weights:           [[100], [100]]\n",
      "format_as_dialogue:      False\n",
      "agent_1_model_name:      command\n",
      "agent_2_model_name:      command\n",
      "\n",
      "\u001b[91m<round: 1, agent: 0>\n",
      "    [note]\n",
      "Mental note:\n",
      "1. Remember the negotiation rules: the sum of payoffs must be higher than in a partial agreement, the payoffs must be higher than 0, and no side payments are allowed. \n",
      "2. Use the payoff tables to start negotiations: the landlord seeks maximum total payoff. \n",
      "3. Strategies: focus on the most valuable issues first; make offers that are closest to the most valuable options for the landlord.\n",
      "\n",
      "Acceptable offer:\n",
      "```json\n",
      "{\n",
      "  \"rent\": \"$1400\"\n",
      "}\n",
      "```\n",
      "-->\n",
      "{'rent': '$1400'}\n",
      "--\n",
      "\n",
      "    [msg]\n",
      "As an advisor, I must negotiate the best possible agreement for the landlord. My main goal is to negotiate based on the information in the payoff tables. The numbers in the payoff tables show how valuable each outcome is to the landlord.\n",
      "\n",
      "As we are only on round one, I will propose an offer that is closer to the most valuable option for the landlord.\n",
      "\n",
      "My offer is: \n",
      "\n",
      "Rent: $1400\n",
      "-->\n",
      "{'rent': '$1400'}\n",
      "--\n",
      "\n",
      "        \u001b[0m\n",
      "\u001b[94m<round: 1, agent: 1>\n",
      "    [note]\n",
      "Mental note:\n",
      "\n",
      "1. Remember the negotiation rules and the payoff tables, which favor the landlord.\n",
      "2. Reflect on the negotiations transcript so far, which indicates that the landlord is open to negotiation.\n",
      "3. Consider strategies to maximize the total payoff for the landlord, which may include negotiating on multiple issues simultaneously.\n",
      "\n",
      "Acceptable offer:\n",
      "\n",
      "```json\n",
      "{\n",
      "  \"rent\": \"$1400\"\n",
      "}\n",
      "```\n",
      "\n",
      "The offer is $100 more than the previous round, which is closer to the most valuable option for the landlord (a payoff of $140) and still within the acceptable range for the tenant (a payoff of $100).\n",
      "-->\n",
      "{'rent': '$1400'}\n",
      "--\n",
      "\n",
      "    [msg]\n",
      "We are open to an agreement on rent of $1400. Is this acceptable to you? If so, please respond with 'We agree on all issues.'\n",
      "-->\n",
      "{'rent': '$1400'}\n",
      "--\n",
      "\n",
      "        \u001b[0m\n",
      "\u001b[91m<round: 2, agent: 0>\n",
      "    [note]\n",
      "Mental note:\n",
      "\n",
      "1. Remember the negotiation rules and payoff tables.\n",
      "2. Reflect on the negotiations transcript so far.\n",
      "3. For all issues, think about strategies to maximize total payoff.\n",
      "\n",
      "Rent is the most valuable issue for the landlord, so we should try to get the highest possible offer for that issue.\n",
      "\n",
      "Acceptable offer:\n",
      "\n",
      "```json\n",
      "{\n",
      "  \"Rent\": \"$1400\"\n",
      "}\n",
      "```\n",
      "\n",
      "Representative Tenant:  We are open to an agreement on rent of $1400. Is this acceptable to you? ]\n",
      "-->\n",
      "{'Rent': '$1400'}\n",
      "--\n",
      "\n",
      "    [msg]\n",
      "Representative Tenant: Tenant, based on the payoff table, I know that the landlord would like to propose an offer on the rent for $1500. This is a more valuable option for the landlord compared to $1400, so I propose that we agree on the more favorable offer of $1500. \n",
      "\n",
      "According to the negotiation rules, once we agree on all issues, I will respond with 'We agree on all issues.'\n",
      "-->\n",
      "{'rent': '$1500'}\n",
      "--\n",
      "\n",
      "        \u001b[0m\n"
     ]
    }
   ],
   "source": [
    "# load_path = \"logs/inference/runs/2023-09-15_01-59-39\"\n",
    "inspect_game(load_path)"
   ]
  },
  {
   "cell_type": "code",
   "execution_count": null,
   "id": "21e7294f",
   "metadata": {},
   "outputs": [],
   "source": []
  },
  {
   "cell_type": "code",
   "execution_count": null,
   "id": "38507d75",
   "metadata": {},
   "outputs": [],
   "source": []
  }
 ],
 "metadata": {
  "kernelspec": {
   "display_name": "Python 3 (ipykernel)",
   "language": "python",
   "name": "python3"
  },
  "language_info": {
   "codemirror_mode": {
    "name": "ipython",
    "version": 3
   },
   "file_extension": ".py",
   "mimetype": "text/x-python",
   "name": "python",
   "nbconvert_exporter": "python",
   "pygments_lexer": "ipython3",
   "version": "3.10.13"
  }
 },
 "nbformat": 4,
 "nbformat_minor": 5
}
